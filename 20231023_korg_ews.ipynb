{
 "cells": [
  {
   "cell_type": "code",
   "execution_count": 1,
   "metadata": {},
   "outputs": [],
   "source": [
    "using Korg\n",
    "using Trapz"
   ]
  },
  {
   "cell_type": "code",
   "execution_count": 4,
   "metadata": {},
   "outputs": [
    {
     "data": {
      "text/plain": [
       "linelist_neighbourhood_indices"
      ]
     },
     "metadata": {},
     "output_type": "display_data"
    }
   ],
   "source": [
    "\"\"\"\n",
    "    linelist_neighbourhood_indices(linelist, ew_window_size)\n",
    "\n",
    "Group lines together such that no two lines are closer than twice the value of `line_buffer`.\n",
    "\n",
    "# Arguments:\n",
    "- `linelist`: A vector of [`Line`](@ref)s (see [`read_linelist`](@ref), \n",
    "   [`get_APOGEE_DR17_linelist`](@ref), and [`get_VALD_solar_linelist`](@ref)).\n",
    "- `ew_window_size`: the minimum separation (in Å) either side of lines in a group\n",
    "\n",
    "# Returns\n",
    "A vector of vectors, where each inner vector contains the indices of lines in a group.\n",
    "\"\"\"\n",
    "function linelist_neighbourhood_indices(linelist, ew_window_size)\n",
    "    linelist_neighbourhood_indices = []        \n",
    "    current_group = [1]    \n",
    "    ew_window_size_overlap_cm = 2 * 1e-8 * ew_window_size\n",
    "    for i in 2:length(linelist)\n",
    "        if (linelist[i].wl - linelist[current_group[end]].wl) > ew_window_size_overlap_cm\n",
    "            push!(current_group, i)\n",
    "        else\n",
    "            push!(linelist_neighbourhood_indices, current_group)\n",
    "            current_group = [i]  \n",
    "        end\n",
    "    end\n",
    "    push!(linelist_neighbourhood_indices, current_group)\n",
    "    linelist_neighbourhood_indices\n",
    "end"
   ]
  },
  {
   "cell_type": "code",
   "execution_count": 58,
   "metadata": {},
   "outputs": [
    {
     "data": {
      "text/plain": [
       "ews_to_abundances"
      ]
     },
     "metadata": {},
     "output_type": "display_data"
    }
   ],
   "source": [
    "\n",
    "\"\"\"\n",
    "    ews_to_abundances(atm, linelist, A_X, ews; kwargs... )\n",
    "\n",
    "Compute per-line abundances given a model atmosphere and a list of lines with equivalent widths.\n",
    "\n",
    "# Arguments:\n",
    "- `atm`: the model atmosphere (see [`read_model_atmosphere`](@ref))\n",
    "- `linelist`: A vector of [`Line`](@ref)s (see [`read_linelist`](@ref), \n",
    "   [`get_APOGEE_DR17_linelist`](@ref), and [`get_VALD_solar_linelist`](@ref)).\n",
    "- `A_X`: a vector containing the A(X) abundances (log(X/H) + 12) for elements from hydrogen to \n",
    "  uranium.  (see [`format_A_X`](@ref))\n",
    "- `ews`: a vector of equivalent widths (in mÅ)\n",
    "\n",
    "# Returns\n",
    "A vector of abundances (log10(n_X/n_H) + 12 format) for each line in `linelist`.\n",
    "\n",
    "# Optional arguments:\n",
    "- `vmic` (default: 1.0) is the microturbulent velocity, ``\\\\xi``, in km/s.\n",
    "- `ew_window_size` (default: 2): the farthest (in Å) to consider equivalent width contributions for any line.\n",
    "- `air_wavelengths` (default: `false`): Whether or not the input wavelengths are air wavelenths to \n",
    "   be converted to vacuum wavelengths by Korg.  The conversion will not be exact, so that the \n",
    "   wavelenth range can internally be represented by an evenly-spaced range.  If the approximation \n",
    "   error is greater than `wavelength_conversion_warn_threshold`, an error will be thrown. (To do \n",
    "   wavelength conversions yourself, see [`air_to_vacuum`](@ref) and [`vacuum_to_air`](@ref).)\n",
    "- `wavelength_conversion_warn_threshold` (default: 1e-4): see `air_wavelengths`. (In Å.)\n",
    "\"\"\"\n",
    "function ews_to_abundances(atm, linelist, A_X, ews, ew_window_size::Real=5.0, λ_step=0.01; synthesize_kwargs...)\n",
    "\n",
    "    synthesize_kwargs = Dict(synthesize_kwargs)\n",
    "    if get(synthesize_kwargs, :hydrogen_lines, false)\n",
    "        throw(ArgumentError(\"hydrogen_lines must be disabled\"))\n",
    "    end\n",
    "    print(synthesize_kwargs)\n",
    "\n",
    "    if !issorted(linelist; by=l->l.wl) \n",
    "        throw(ArgumentError(\"linelist must be sorted\"))\n",
    "    end\n",
    "\n",
    "    if any(l -> Korg.ismolecule(l.species), linelist)\n",
    "        throw(ArgumentError(\"linelist contains molecular species\"))\n",
    "    end\n",
    "\n",
    "    # Check that the user is supplying EWs in mA\n",
    "    if 1 > maximum(ews)\n",
    "        @warn \"Maximum EW given is less than 1 mA. Check that you're giving EWs in mA (*not* A).\"\n",
    "    end\n",
    "\n",
    "    # Group lines together ensuring that no λ is closer to it's neighbour than twice the ew_window_size.\n",
    "    group_indices = linelist_neighbourhood_indices(linelist, ew_window_size)\n",
    "\n",
    "    d_A = Array{Float64}(undef, length(linelist))\n",
    "    for indices in group_indices\n",
    "        wl_ranges = map(linelist[indices]) do line\n",
    "            λ_start, λ_stop = (1e8 * line.wl - ew_window_size, 1e8 * line.wl + ew_window_size)\n",
    "            wls = range(λ_start, λ_stop; length=Int(round((λ_stop - λ_start)/λ_step))+1)\n",
    "        end\n",
    "\n",
    "        spectrum = Korg.synthesize(\n",
    "            atm, linelist[indices], A_X, wl_ranges;\n",
    "            hydrogen_lines=false,\n",
    "            synthesize_kwargs...\n",
    "        )\n",
    "\n",
    "        for (i, (idx, line)) in enumerate(zip(spectrum.subspectra, linelist[indices]))\n",
    "            depth = 1 .- spectrum.flux[idx] ./ spectrum.cntm[idx]\n",
    "            ew = trapz(spectrum.wavelengths[idx], depth) # Angstrom\n",
    "            rew = log10(ew / (line.wl * 1e8))    \n",
    "            d_A[indices[i]] = rew - A_X[Korg.get_atoms(line.species)[1]] # species is atomic\n",
    "        end\n",
    "    end\n",
    "\n",
    "    # measured EWs are in mA, factor of 10^11 converts from cm\n",
    "    measured_REW = log10.(ews ./ [1e11 * line.wl for line in linelist])\n",
    "    measured_REW .- d_A\n",
    "end"
   ]
  },
  {
   "cell_type": "code",
   "execution_count": 59,
   "metadata": {},
   "outputs": [],
   "source": []
  },
  {
   "cell_type": "code",
   "execution_count": 60,
   "metadata": {},
   "outputs": [
    {
     "data": {
      "text/plain": [
       "281-element Vector{Korg.Line{Float64, Float64, Float64, Float64, Float64, Float64}}:\n",
       " Fe I 4365.9 Å (log gf = -2.25)\n",
       " Fe I 4389.25 Å (log gf = -4.58)\n",
       " Fe I 4445.47 Å (log gf = -5.44)\n",
       " Ti I 4465.8 Å (log gf = -0.16)\n",
       " Ti II 4470.86 Å (log gf = -2.06)\n",
       " Fe II 4508.29 Å (log gf = -2.52)\n",
       " Ca I 4512.27 Å (log gf = -1.9)\n",
       " Fe II 4520.22 Å (log gf = -2.65)\n",
       " Ti II 4544.03 Å (log gf = -2.53)\n",
       " Mg I 4571.1 Å (log gf = -5.62)\n",
       " ⋮\n",
       " O I 7775.39 Å (log gf = 0.0)\n",
       " Ni I 7797.59 Å (log gf = -0.34)\n",
       " Al I 7835.31 Å (log gf = -0.68)\n",
       " Al I 7836.13 Å (log gf = -0.45)\n",
       " Cu I 7933.13 Å (log gf = -0.37)\n",
       " S I 8693.93 Å (log gf = -0.44)\n",
       " S I 8694.62 Å (log gf = 0.1)\n",
       " Al I 8772.87 Å (log gf = -0.38)\n",
       " Al I 8773.9 Å (log gf = -0.22)"
      ]
     },
     "metadata": {},
     "output_type": "display_data"
    }
   ],
   "source": [
    "include(\"Sun.jl\")"
   ]
  },
  {
   "cell_type": "code",
   "execution_count": 72,
   "metadata": {},
   "outputs": [
    {
     "data": {
      "text/plain": [
       "Korg.PlanarAtmosphere{Float64, Float64, Float64, Float64, Float64} with 56 layers"
      ]
     },
     "metadata": {},
     "output_type": "display_data"
    }
   ],
   "source": [
    "Teff, logg, Fe_H, vmic = (5500, 4.40, 0.0, 1.0)\n",
    "A_X = Korg.format_A_X(Fe_H, 0.0)\n",
    "atm = Korg.interpolate_marcs(Teff, logg, Fe_H)  "
   ]
  },
  {
   "cell_type": "code",
   "execution_count": 73,
   "metadata": {},
   "outputs": [
    {
     "data": {
      "text/plain": [
       "281-element Vector{Float64}:\n",
       " 7.372571117745415\n",
       " 7.382871767967065\n",
       " 7.334091858805466\n",
       " 4.868233978031333\n",
       " 4.9348870290779\n",
       " 7.336514809037024\n",
       " 5.642299845121448\n",
       " 7.480880656902284\n",
       " 4.9729665141190385\n",
       " 7.473793790277254\n",
       " ⋮\n",
       " 8.302990306100924\n",
       " 6.18691577660297\n",
       " 5.955288830645784\n",
       " 6.04051879749025\n",
       " 4.203081953017105\n",
       " 6.715626995751011\n",
       " 7.074630587873986\n",
       " 6.090918796397232\n",
       " 6.154644721684386"
      ]
     },
     "metadata": {},
     "output_type": "display_data"
    }
   ],
   "source": [
    "abundances = ews_to_abundances(atm, linelist, A_X, ews, vmic=vmic)"
   ]
  },
  {
   "cell_type": "code",
   "execution_count": 74,
   "metadata": {},
   "outputs": [],
   "source": [
    "# output\n",
    "open(\"Sun.dat\", \"w\") do fp\n",
    "    write(fp, \"species,Z,A,Sun\\n\")\n",
    "    for (line, A) in zip(linelist, abundances)\n",
    "        Z = string(Korg.get_atoms(line.species)[1])\n",
    "        Sun = Korg.default_solar_abundances[parse(Int, Z)]\n",
    "        write(fp, \"$(line.species),$(Z),$(A),$(Sun)\\n\")\n",
    "    end\n",
    "end"
   ]
  },
  {
   "cell_type": "code",
   "execution_count": null,
   "metadata": {},
   "outputs": [],
   "source": []
  }
 ],
 "metadata": {
  "kernelspec": {
   "display_name": "Julia 1.9.1",
   "language": "julia",
   "name": "julia-1.9"
  },
  "language_info": {
   "file_extension": ".jl",
   "mimetype": "application/julia",
   "name": "julia",
   "version": "1.9.1"
  }
 },
 "nbformat": 4,
 "nbformat_minor": 2
}
