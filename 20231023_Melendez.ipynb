{
 "cells": [
  {
   "cell_type": "code",
   "execution_count": 1,
   "metadata": {},
   "outputs": [],
   "source": [
    "using Korg\n",
    "using Trapz"
   ]
  },
  {
   "cell_type": "code",
   "execution_count": 2,
   "metadata": {},
   "outputs": [
    {
     "data": {
      "text/plain": [
       "linelist_neighbourhood_indices"
      ]
     },
     "metadata": {},
     "output_type": "display_data"
    }
   ],
   "source": [
    "\"\"\"\n",
    "    linelist_neighbourhood_indices(linelist, ew_window_size)\n",
    "\n",
    "Group lines together such that no two lines are closer than twice the value of `line_buffer`.\n",
    "\n",
    "# Arguments:\n",
    "- `linelist`: A vector of [`Line`](@ref)s (see [`read_linelist`](@ref), \n",
    "   [`get_APOGEE_DR17_linelist`](@ref), and [`get_VALD_solar_linelist`](@ref)).\n",
    "- `ew_window_size`: the minimum separation (in Å) either side of lines in a group\n",
    "\n",
    "# Returns\n",
    "A vector of vectors, where each inner vector contains the indices of lines in a group.\n",
    "\"\"\"\n",
    "function linelist_neighbourhood_indices(linelist, ew_window_size)\n",
    "    linelist_neighbourhood_indices = []        \n",
    "    current_group = [1]    \n",
    "    ew_window_size_overlap_cm = 2 * 1e-8 * ew_window_size\n",
    "    for i in 2:length(linelist)\n",
    "        if (linelist[i].wl - linelist[current_group[end]].wl) > ew_window_size_overlap_cm\n",
    "            push!(current_group, i)\n",
    "        else\n",
    "            push!(linelist_neighbourhood_indices, current_group)\n",
    "            current_group = [i]  \n",
    "        end\n",
    "    end\n",
    "    push!(linelist_neighbourhood_indices, current_group)\n",
    "    linelist_neighbourhood_indices\n",
    "end"
   ]
  },
  {
   "cell_type": "markdown",
   "metadata": {},
   "source": []
  },
  {
   "cell_type": "code",
   "execution_count": 3,
   "metadata": {},
   "outputs": [
    {
     "data": {
      "text/plain": [
       "ews_to_abundances"
      ]
     },
     "metadata": {},
     "output_type": "display_data"
    }
   ],
   "source": [
    "\n",
    "\"\"\"\n",
    "    ews_to_abundances(atm, linelist, A_X, ews; kwargs... )\n",
    "\n",
    "Compute per-line abundances given a model atmosphere and a list of lines with equivalent widths.\n",
    "\n",
    "# Arguments:\n",
    "- `atm`: the model atmosphere (see [`read_model_atmosphere`](@ref))\n",
    "- `linelist`: A vector of [`Line`](@ref)s (see [`read_linelist`](@ref), \n",
    "   [`get_APOGEE_DR17_linelist`](@ref), and [`get_VALD_solar_linelist`](@ref)).\n",
    "- `A_X`: a vector containing the A(X) abundances (log(X/H) + 12) for elements from hydrogen to \n",
    "  uranium.  (see [`format_A_X`](@ref))\n",
    "- `ews`: a vector of equivalent widths (in mÅ)\n",
    "\n",
    "# Returns\n",
    "A vector of abundances (log10(n_X/n_H) + 12 format) for each line in `linelist`.\n",
    "\n",
    "# Optional arguments:\n",
    "- `vmic` (default: 1.0) is the microturbulent velocity, ``\\\\xi``, in km/s.\n",
    "- `ew_window_size` (default: 2): the farthest (in Å) to consider equivalent width contributions for any line.\n",
    "- `air_wavelengths` (default: `false`): Whether or not the input wavelengths are air wavelenths to \n",
    "   be converted to vacuum wavelengths by Korg.  The conversion will not be exact, so that the \n",
    "   wavelenth range can internally be represented by an evenly-spaced range.  If the approximation \n",
    "   error is greater than `wavelength_conversion_warn_threshold`, an error will be thrown. (To do \n",
    "   wavelength conversions yourself, see [`air_to_vacuum`](@ref) and [`vacuum_to_air`](@ref).)\n",
    "- `wavelength_conversion_warn_threshold` (default: 1e-4): see `air_wavelengths`. (In Å.)\n",
    "\"\"\"\n",
    "function ews_to_abundances(atm, linelist, A_X, ews, ew_window_size::Real=2.0, λ_step=0.01; synthesize_kwargs...)\n",
    "\n",
    "    synthesize_kwargs = Dict(synthesize_kwargs)\n",
    "    if get(synthesize_kwargs, :hydrogen_lines, false)\n",
    "        throw(ArgumentError(\"hydrogen_lines must be disabled\"))\n",
    "    end\n",
    "    print(synthesize_kwargs)\n",
    "\n",
    "    if !issorted(linelist; by=l->l.wl) \n",
    "        throw(ArgumentError(\"linelist must be sorted\"))\n",
    "    end\n",
    "\n",
    "    if any(l -> Korg.ismolecule(l.species), linelist)\n",
    "        throw(ArgumentError(\"linelist contains molecular species\"))\n",
    "    end\n",
    "\n",
    "    # Check that the user is supplying EWs in mA\n",
    "    if 1 > maximum(ews)\n",
    "        @warn \"Maximum EW given is less than 1 mA. Check that you're giving EWs in mA (*not* A).\"\n",
    "    end\n",
    "\n",
    "    # Group lines together ensuring that no λ is closer to it's neighbour than twice the ew_window_size.\n",
    "    group_indices = linelist_neighbourhood_indices(linelist, ew_window_size)\n",
    "\n",
    "    d_A = Array{Float64}(undef, length(linelist))\n",
    "    for indices in group_indices\n",
    "        wl_ranges = map(linelist[indices]) do line\n",
    "            λ_start, λ_stop = (1e8 * line.wl - ew_window_size, 1e8 * line.wl + ew_window_size)\n",
    "            wls = range(λ_start, λ_stop; length=Int(round((λ_stop - λ_start)/λ_step))+1)\n",
    "        end\n",
    "\n",
    "        spectrum = Korg.synthesize(\n",
    "            atm, linelist[indices], A_X, wl_ranges,\n",
    "            hydrogen_lines=false;\n",
    "            synthesize_kwargs...\n",
    "        )\n",
    "\n",
    "        for (i, (idx, line)) in enumerate(zip(spectrum.subspectra, linelist[indices]))\n",
    "            depth = 1 .- spectrum.flux[idx] ./ spectrum.cntm[idx]\n",
    "            ew = trapz(spectrum.wavelengths[idx], depth) # Angstrom\n",
    "            rew = log10(ew / (line.wl * 1e8))    \n",
    "            d_A[indices[i]] = rew - A_X[Korg.get_atoms(line.species)[1]] # species is atomic\n",
    "        end\n",
    "    end\n",
    "\n",
    "    # measured EWs are in mA, factor of 10^11 converts from cm\n",
    "    measured_REW = log10.(ews ./ [1e11 * line.wl for line in linelist])\n",
    "    measured_REW .- d_A\n",
    "end"
   ]
  },
  {
   "cell_type": "code",
   "execution_count": 15,
   "metadata": {},
   "outputs": [
    {
     "data": {
      "text/plain": [
       "98-element Vector{Korg.Line{Float64, Float64, Float64, Float64, Float64, Float64}}:\n",
       " Fe I 5044.211 Å (log gf = -2.06)\n",
       " Fe I 5054.642 Å (log gf = -1.92)\n",
       " Fe I 5127.359 Å (log gf = -3.31)\n",
       " Fe I 5127.679 Å (log gf = -6.12)\n",
       " Fe II 5197.577 Å (log gf = -2.22)\n",
       " Fe I 5198.711 Å (log gf = -2.13)\n",
       " Fe I 5225.525 Å (log gf = -4.79)\n",
       " Fe II 5234.625 Å (log gf = -2.18)\n",
       " Fe I 5242.491 Å (log gf = -0.97)\n",
       " Fe I 5247.05 Å (log gf = -4.95)\n",
       " ⋮\n",
       " Fe I 6750.152 Å (log gf = -2.62)\n",
       " Fe I 6752.707 Å (log gf = -1.2)\n",
       " Fe I 6793.259 Å (log gf = -2.33)\n",
       " Fe I 6806.845 Å (log gf = -3.11)\n",
       " Fe I 6810.263 Å (log gf = -0.99)\n",
       " Fe I 6837.006 Å (log gf = -1.69)\n",
       " Fe I 6839.83 Å (log gf = -3.35)\n",
       " Fe I 6843.656 Å (log gf = -0.86)\n",
       " Fe I 6858.15 Å (log gf = -0.93)"
      ]
     },
     "metadata": {},
     "output_type": "display_data"
    }
   ],
   "source": [
    "sun_ews = [74.3, 40.5, 96.1, 19.1, 80.7, 98.1, 72.1, 80.7, 86.9, 66.9, 65.9, 45.8, 30.3, 61.5, 41.3, 63.9, 61.5, 33.6, 26.7, 41.3, 79.4, 35.2, 43.7, 51.4, 52.0, 11.2, 50.2, 19.7, 77.6, 35.9, 18.9, 23.0, 59.6, 13.7, 84.7, 38.1, 22.9, 60.1, 55.5, 43.6, 77.9, 52.8, 68.2, 84.5, 23.0, 111.2, 64.0, 72.3, 117.3, 46.5, 34.0, 20.9, 30.8, 37.6, 49.9, 62.7, 45.4, 68.7, 47.6, 73.6, 82.7, 90.3, 30.1, 48.7, 52.9, 121.6, 85.9, 52.2, 24.6, 18.7, 53.2, 16.7, 40.5, 114.0, 42.4, 62.4, 46.5, 86.3, 44.7, 14.9, 129.9, 37.6, 46.3, 15.7, 21.2, 18.6, 47.4, 27.0, 12.4, 75.3, 36.8, 13.0, 35.4, 50.6, 18.9, 31.6, 63.3, 52.4,]\n",
    "sco_ews = [74.8, 40.9, 97.5, 18.9, 84.0, 99.3, 72.5, 83.5, 88.3, 67.4, 66.3, 48.6, 31.0, 62.9, 42.7, 65.2, 62.9, 34.8, 28.5, 43.0, 81.3, 35.8, 45.8, 52.6, 53.8, 11.9, 51.8, 20.7, 78.8, 37.8, 20.3, 24.4, 61.7, 14.5, 86.4, 39.7, 23.8, 61.7, 55.4, 46.0, 79.1, 52.3, 70.3, 85.5, 23.9, 114.0, 65.7, 74.2, 118.8, 47.5, 35.3, 22.6, 32.8, 39.3, 51.2, 64.7, 47.4, 69.0, 49.4, 74.6, 83.9, 91.2, 31.5, 49.3, 54.6, 123.1, 86.9, 52.9, 25.3, 20.4, 54.3, 17.3, 42.6, 113.4, 43.9, 64.9, 47.2, 86.6, 46.2, 15.8, 132.8, 38.3, 47.9, 15.7, 22.3, 19.2, 48.4, 28.7, 13.2, 75.3, 39.0, 14.3, 35.8, 53.1, 20.0, 32.5, 64.1, 53.6,]\n",
    "linelist = [\n",
    "Korg.Line(5044.211 * 1e-8, -2.05800, Korg.Species(\"26.0\"), 2.8512, 2.71e-31),\n",
    "Korg.Line(5054.642 * 1e-8, -1.92100, Korg.Species(\"26.0\"), 3.64, 4.68e-32),\n",
    "Korg.Line(5127.359 * 1e-8, -3.30700, Korg.Species(\"26.0\"), 0.915, 1.84e-32),\n",
    "Korg.Line(5127.679 * 1e-8, -6.12500, Korg.Species(\"26.0\"), 0.052, 1.2e-32),\n",
    "Korg.Line(5197.577 * 1e-8, -2.22000, Korg.Species(\"26.1\"), 3.2306, 8.69e-33),\n",
    "Korg.Line(5198.711 * 1e-8, -2.13500, Korg.Species(\"26.0\"), 2.223, 4.61e-32),\n",
    "Korg.Line(5225.525 * 1e-8, -4.78900, Korg.Species(\"26.0\"), 0.1101, 1.23e-32),\n",
    "Korg.Line(5234.625 * 1e-8, -2.18000, Korg.Species(\"26.1\"), 3.2215, 8.69e-33),\n",
    "Korg.Line(5242.491 * 1e-8, -0.96700, Korg.Species(\"26.0\"), 3.634, 4.95e-32),\n",
    "Korg.Line(5247.050 * 1e-8, -4.94600, Korg.Species(\"26.0\"), 0.0872, 1.22e-32),\n",
    "Korg.Line(5250.208 * 1e-8, -4.93800, Korg.Species(\"26.0\"), 0.1212, 1.23e-32),\n",
    "Korg.Line(5264.812 * 1e-8, -3.13000, Korg.Species(\"26.1\"), 3.2304, 9.43e-33),\n",
    "Korg.Line(5295.312 * 1e-8, -1.49000, Korg.Species(\"26.0\"), 4.415, 6.54e-31),\n",
    "Korg.Line(5322.041 * 1e-8, -2.80000, Korg.Species(\"26.0\"), 2.279, 4.29e-32),\n",
    "Korg.Line(5325.553 * 1e-8, -3.16000, Korg.Species(\"26.1\"), 3.2215, 8.57e-33),\n",
    "Korg.Line(5373.709 * 1e-8, -0.77000, Korg.Species(\"26.0\"), 4.473, 7.04e-31),\n",
    "Korg.Line(5379.574 * 1e-8, -1.51400, Korg.Species(\"26.0\"), 3.694, 5.02e-32),\n",
    "Korg.Line(5386.334 * 1e-8, -1.74000, Korg.Species(\"26.0\"), 4.154, 5.27e-31),\n",
    "Korg.Line(5414.073 * 1e-8, -3.58000, Korg.Species(\"26.1\"), 3.2215, 9.3e-33),\n",
    "Korg.Line(5425.257 * 1e-8, -3.22000, Korg.Species(\"26.1\"), 3.1996, 8.45e-33),\n",
    "Korg.Line(5466.396 * 1e-8, -0.56500, Korg.Species(\"26.0\"), 4.371, 4.4e-31),\n",
    "Korg.Line(5466.987 * 1e-8, -2.23000, Korg.Species(\"26.0\"), 3.573, 2.8),\n",
    "Korg.Line(5522.446 * 1e-8, -1.31000, Korg.Species(\"26.0\"), 4.209, 3.02e-31),\n",
    "Korg.Line(5546.506 * 1e-8, -1.18000, Korg.Species(\"26.0\"), 4.371, 3.91e-31),\n",
    "Korg.Line(5560.211 * 1e-8, -1.16000, Korg.Species(\"26.0\"), 4.434, 4.79e-31),\n",
    "Korg.Line(5577.020 * 1e-8, -1.45500, Korg.Species(\"26.0\"), 5.0331, 2.8),\n",
    "Korg.Line(5618.633 * 1e-8, -1.27600, Korg.Species(\"26.0\"), 4.209, 2.9e-31),\n",
    "Korg.Line(5636.696 * 1e-8, -2.56000, Korg.Species(\"26.0\"), 3.64, 5.19e-32),\n",
    "Korg.Line(5638.262 * 1e-8, -0.81000, Korg.Species(\"26.0\"), 4.22, 2.88e-31),\n",
    "Korg.Line(5649.987 * 1e-8, -0.80000, Korg.Species(\"26.0\"), 5.0995, 2.77e-31),\n",
    "Korg.Line(5651.469 * 1e-8, -1.75000, Korg.Species(\"26.0\"), 4.473, 4.83e-31),\n",
    "Korg.Line(5661.348 * 1e-8, -1.75600, Korg.Species(\"26.0\"), 4.2843, 3.24e-31),\n",
    "Korg.Line(5679.023 * 1e-8, -0.75000, Korg.Species(\"26.0\"), 4.652, 8.13e-31),\n",
    "Korg.Line(5696.089 * 1e-8, -1.72000, Korg.Species(\"26.0\"), 4.548, 5.78e-31),\n",
    "Korg.Line(5701.544 * 1e-8, -2.21600, Korg.Species(\"26.0\"), 2.559, 4.95e-32),\n",
    "Korg.Line(5705.464 * 1e-8, -1.35500, Korg.Species(\"26.0\"), 4.301, 3.02e-31),\n",
    "Korg.Line(5855.076 * 1e-8, -1.47800, Korg.Species(\"26.0\"), 4.6075, 5.74e-31),\n",
    "Korg.Line(5905.672 * 1e-8, -0.69000, Korg.Species(\"26.0\"), 4.652, 6.23e-31),\n",
    "Korg.Line(5916.247 * 1e-8, -2.93600, Korg.Species(\"26.0\"), 2.453, 4.29e-32),\n",
    "Korg.Line(5927.789 * 1e-8, -1.04000, Korg.Species(\"26.0\"), 4.652, 6.07e-31),\n",
    "Korg.Line(5934.655 * 1e-8, -1.07000, Korg.Species(\"26.0\"), 3.928, 5.69e-31),\n",
    "Korg.Line(5956.694 * 1e-8, -4.60500, Korg.Species(\"26.0\"), 0.8589, 1.55e-32),\n",
    "Korg.Line(5987.065 * 1e-8, -0.21200, Korg.Species(\"26.0\"), 4.795, 1.55e-32),\n",
    "Korg.Line(6003.012 * 1e-8, -1.06000, Korg.Species(\"26.0\"), 3.881, 4.83e-31),\n",
    "Korg.Line(6005.541 * 1e-8, -3.43000, Korg.Species(\"26.0\"), 2.588, 2.8),\n",
    "Korg.Line(6024.058 * 1e-8, -0.02000, Korg.Species(\"26.0\"), 4.548, 3.88e-31),\n",
    "Korg.Line(6027.050 * 1e-8, -1.09000, Korg.Species(\"26.0\"), 4.0758, 2.8),\n",
    "Korg.Line(6056.005 * 1e-8, -0.45000, Korg.Species(\"26.0\"), 4.733, 6.79e-31),\n",
    "Korg.Line(6065.482 * 1e-8, -1.53000, Korg.Species(\"26.0\"), 2.6085, 4.71e-32),\n",
    "Korg.Line(6079.009 * 1e-8, -1.10000, Korg.Species(\"26.0\"), 4.652, 5.13e-31),\n",
    "Korg.Line(6082.711 * 1e-8, -3.57300, Korg.Species(\"26.0\"), 2.223, 3.27e-32),\n",
    "Korg.Line(6084.111 * 1e-8, -3.79000, Korg.Species(\"26.1\"), 3.1996, 7.87e-33),\n",
    "Korg.Line(6093.644 * 1e-8, -1.30000, Korg.Species(\"26.0\"), 4.607, 4.41e-31),\n",
    "Korg.Line(6096.665 * 1e-8, -1.81000, Korg.Species(\"26.0\"), 3.9841, 5.75e-31),\n",
    "Korg.Line(6151.618 * 1e-8, -3.29900, Korg.Species(\"26.0\"), 2.1759, 2.55e-32),\n",
    "Korg.Line(6157.728 * 1e-8, -1.22000, Korg.Species(\"26.0\"), 4.076, 2.8),\n",
    "Korg.Line(6165.360 * 1e-8, -1.46000, Korg.Species(\"26.0\"), 4.1426, 2.8),\n",
    "Korg.Line(6173.335 * 1e-8, -2.88000, Korg.Species(\"26.0\"), 2.223, 2.65e-32),\n",
    "Korg.Line(6187.990 * 1e-8, -1.67000, Korg.Species(\"26.0\"), 3.943, 4.9e-31),\n",
    "Korg.Line(6200.313 * 1e-8, -2.43700, Korg.Species(\"26.0\"), 2.6085, 4.58e-32),\n",
    "Korg.Line(6213.430 * 1e-8, -2.52000, Korg.Species(\"26.0\"), 2.2227, 2.62e-32),\n",
    "Korg.Line(6219.281 * 1e-8, -2.43300, Korg.Species(\"26.0\"), 2.198, 2.58e-32),\n",
    "Korg.Line(6226.736 * 1e-8, -2.10000, Korg.Species(\"26.0\"), 3.883, 4.15e-31),\n",
    "Korg.Line(6240.646 * 1e-8, -3.23300, Korg.Species(\"26.0\"), 2.2227, 3.14e-32),\n",
    "Korg.Line(6247.557 * 1e-8, -2.30000, Korg.Species(\"26.1\"), 3.8918, 9.43e-33),\n",
    "Korg.Line(6252.555 * 1e-8, -1.68700, Korg.Species(\"26.0\"), 2.404, 3.84e-32),\n",
    "Korg.Line(6265.134 * 1e-8, -2.55000, Korg.Species(\"26.0\"), 2.1759, 2.48e-32),\n",
    "Korg.Line(6270.225 * 1e-8, -2.54000, Korg.Species(\"26.0\"), 2.858, 4.58e-32),\n",
    "Korg.Line(6271.279 * 1e-8, -2.70300, Korg.Species(\"26.0\"), 3.332, 2.78e-31),\n",
    "Korg.Line(6369.462 * 1e-8, -4.11000, Korg.Species(\"26.1\"), 2.8912, 7.42e-33),\n",
    "Korg.Line(6380.743 * 1e-8, -1.37600, Korg.Species(\"26.0\"), 4.186, 2.8),\n",
    "Korg.Line(6392.539 * 1e-8, -4.03000, Korg.Species(\"26.0\"), 2.279, 3.38e-32),\n",
    "Korg.Line(6416.919 * 1e-8, -2.64000, Korg.Species(\"26.1\"), 3.8918, 9.3e-33),\n",
    "Korg.Line(6430.846 * 1e-8, -2.00600, Korg.Species(\"26.0\"), 2.1759, 2.42e-32),\n",
    "Korg.Line(6432.680 * 1e-8, -3.57000, Korg.Species(\"26.1\"), 2.8912, 7.42e-33),\n",
    "Korg.Line(6456.383 * 1e-8, -2.05000, Korg.Species(\"26.1\"), 3.9036, 9.3e-33),\n",
    "Korg.Line(6498.939 * 1e-8, -4.69900, Korg.Species(\"26.0\"), 0.9581, 1.53e-32),\n",
    "Korg.Line(6593.871 * 1e-8, -2.42200, Korg.Species(\"26.0\"), 2.4326, 3.69e-32),\n",
    "Korg.Line(6597.561 * 1e-8, -0.98000, Korg.Species(\"26.0\"), 4.795, 4.76e-31),\n",
    "Korg.Line(6625.022 * 1e-8, -5.33600, Korg.Species(\"26.0\"), 1.011, 2.8),\n",
    "Korg.Line(6677.987 * 1e-8, -1.41800, Korg.Species(\"26.0\"), 2.692, 3.46e-32),\n",
    "Korg.Line(6703.567 * 1e-8, -3.02300, Korg.Species(\"26.0\"), 2.7585, 3.66e-32),\n",
    "Korg.Line(6705.102 * 1e-8, -0.98000, Korg.Species(\"26.0\"), 4.607, 2.8),\n",
    "Korg.Line(6710.319 * 1e-8, -4.88000, Korg.Species(\"26.0\"), 1.485, 2.01e-32),\n",
    "Korg.Line(6713.745 * 1e-8, -1.40000, Korg.Species(\"26.0\"), 4.795, 4.3e-31),\n",
    "Korg.Line(6725.357 * 1e-8, -2.19000, Korg.Species(\"26.0\"), 4.103, 4.82e-31),\n",
    "Korg.Line(6726.667 * 1e-8, -1.03000, Korg.Species(\"26.0\"), 4.607, 4.82e-31),\n",
    "Korg.Line(6733.151 * 1e-8, -1.47000, Korg.Species(\"26.0\"), 4.638, 3.41e-31),\n",
    "Korg.Line(6739.522 * 1e-8, -4.79000, Korg.Species(\"26.0\"), 1.557, 2.1e-32),\n",
    "Korg.Line(6750.152 * 1e-8, -2.62100, Korg.Species(\"26.0\"), 2.4241, 4.11e-32),\n",
    "Korg.Line(6752.707 * 1e-8, -1.20400, Korg.Species(\"26.0\"), 4.638, 3.37e-31),\n",
    "Korg.Line(6793.259 * 1e-8, -2.32600, Korg.Species(\"26.0\"), 4.076, 2.8),\n",
    "Korg.Line(6806.845 * 1e-8, -3.11000, Korg.Species(\"26.0\"), 2.727, 3.46e-32),\n",
    "Korg.Line(6810.263 * 1e-8, -0.98600, Korg.Species(\"26.0\"), 4.607, 4.5e-31),\n",
    "Korg.Line(6837.006 * 1e-8, -1.68700, Korg.Species(\"26.0\"), 4.593, 2.46e-32),\n",
    "Korg.Line(6839.830 * 1e-8, -3.35000, Korg.Species(\"26.0\"), 2.559, 3.95e-32),\n",
    "Korg.Line(6843.656 * 1e-8, -0.86000, Korg.Species(\"26.0\"), 4.548, 2.94e-31),\n",
    "Korg.Line(6858.150 * 1e-8, -0.93000, Korg.Species(\"26.0\"), 4.607, 3.24e-31),\n",
    "]\n"
   ]
  },
  {
   "cell_type": "code",
   "execution_count": 17,
   "metadata": {},
   "outputs": [
    {
     "data": {
      "text/plain": [
       "Korg.PlanarAtmosphere{Float64, Float64, Float64, Float64, Float64} with 56 layers"
      ]
     },
     "metadata": {},
     "output_type": "display_data"
    }
   ],
   "source": [
    "sun_Teff, sun_logg, sun_Fe_H, sun_vmic = (5777, 4.44, 0.0, 1.0)\n",
    "sun_A_X = Korg.format_A_X(sun_Fe_H)\n",
    "sun_atm = Korg.interpolate_marcs(sun_Teff, sun_logg, sun_A_X)  "
   ]
  },
  {
   "cell_type": "code",
   "execution_count": 18,
   "metadata": {},
   "outputs": [
    {
     "name": "stdout",
     "output_type": "stream",
     "text": [
      "Dict(:vmic => 1.0)"
     ]
    },
    {
     "data": {
      "text/plain": [
       "98-element Vector{Float64}:\n",
       " 7.479169248395722\n",
       " 7.42422088320283\n",
       " 7.453836094025727\n",
       " 7.518756031140042\n",
       " 7.449436255471412\n",
       " 7.472167707919682\n",
       " 7.467507615372016\n",
       " 7.437432279689002\n",
       " 7.437034600822892\n",
       " 7.467908397052503\n",
       " ⋮\n",
       " 7.480277478264499\n",
       " 7.45799666672377\n",
       " 7.415195976053855\n",
       " 7.471598554686933\n",
       " 7.469934194295676\n",
       " 7.462095970222552\n",
       " 7.465813480926904\n",
       " 7.491052826329605\n",
       " 7.459922598826152"
      ]
     },
     "metadata": {},
     "output_type": "display_data"
    }
   ],
   "source": [
    "sun_abundances = ews_to_abundances(sun_atm, linelist, sun_A_X, sun_ews, vmic=sun_vmic)"
   ]
  },
  {
   "cell_type": "code",
   "execution_count": 19,
   "metadata": {},
   "outputs": [
    {
     "data": {
      "text/plain": [
       "Korg.PlanarAtmosphere{Float64, Float64, Float64, Float64, Float64} with 56 layers"
      ]
     },
     "metadata": {},
     "output_type": "display_data"
    }
   ],
   "source": [
    "sco_teff, sco_logg, sco_fe_h, sco_vmic = (5823, 4.45, 0.054, sun_vmic + 0.02)\n",
    "sco_A_X = Korg.format_A_X(sco_fe_h)\n",
    "sco_atm = Korg.interpolate_marcs(sco_teff, sco_logg, sco_A_X)"
   ]
  },
  {
   "cell_type": "code",
   "execution_count": 20,
   "metadata": {},
   "outputs": [
    {
     "name": "stdout",
     "output_type": "stream",
     "text": [
      "Dict(:vmic => 1.02)"
     ]
    },
    {
     "data": {
      "text/plain": [
       "98-element Vector{Float64}:\n",
       " 7.529973019104721\n",
       " 7.470711432117186\n",
       " 7.512192580370535\n",
       " 7.572202045199583\n",
       " 7.507771283840694\n",
       " 7.527727790776761\n",
       " 7.522140471261856\n",
       " 7.493346955491436\n",
       " 7.491546246375232\n",
       " 7.52361883729134\n",
       " ⋮\n",
       " 7.528118859421525\n",
       " 7.519031901101107\n",
       " 7.488382972388841\n",
       " 7.5198540154219975\n",
       " 7.5301469591914705\n",
       " 7.516778564995187\n",
       " 7.521734066326606\n",
       " 7.537883276141557\n",
       " 7.509715973058099"
      ]
     },
     "metadata": {},
     "output_type": "display_data"
    }
   ],
   "source": [
    "sco_abundances = ews_to_abundances(sco_atm, linelist, sco_A_X, sco_ews, vmic=sco_vmic)"
   ]
  },
  {
   "cell_type": "code",
   "execution_count": 33,
   "metadata": {},
   "outputs": [
    {
     "name": "stdout",
     "output_type": "stream",
     "text": [
      "0.05445432477428866 0.005710106505793701"
     ]
    },
    {
     "data": {
      "image/png": "[encoded data removed]",
      "text/plain": [
       "Figure(PyObject <Figure size 640x480 with 2 Axes>)"
      ]
     },
     "metadata": {},
     "output_type": "display_data"
    }
   ],
   "source": [
    "using PyPlot\n",
    "\n",
    "x = [l.E_lower for l in linelist]\n",
    "y = sco_abundances .- sun_abundances\n",
    "\n",
    "print(Statistics.mean(y), \" \", Statistics.std(y))\n",
    "fig, axes = plt.subplots(2, 1)\n",
    "axes[1].scatter(\n",
    "    x,\n",
    "    y,\n",
    "    c=[l.species.charge for l in linelist]\n",
    ")\n",
    "\n",
    "x2 = log10.(ews ./ [l.wl * 1e11 for l in linelist])\n",
    "axes[2].scatter(\n",
    "    x2,\n",
    "    y,\n",
    "    c=[l.species.charge for l in linelist]\n",
    ")\n",
    "for ax in axes\n",
    "    ax.axhline(Statistics.mean(y), c=\"#666666\", ls=\":\", zorder=-1, lw=0.5)\n",
    "    ax.set_ylim(-0.01, 0.12)\n",
    "end\n",
    "gcf()\n"
   ]
  },
  {
   "cell_type": "code",
   "execution_count": 37,
   "metadata": {},
   "outputs": [
    {
     "name": "stdout",
     "output_type": "stream",
     "text": [
      "wl,charge,E_lower,log_gf,sun_A,sco_A\n",
      "5044.211,0,2.8512,-2.058,7.479169248395722,7.529973019104721\n",
      "5054.642,0,3.64,-1.921,7.42422088320283,7.470711432117186\n",
      "5127.359,0,0.915,-3.307,7.453836094025727,7.512192580370535\n",
      "5127.679,0,0.052,-6.125,7.518756031140042,7.572202045199583\n",
      "5197.577,1,3.2306,-2.22,7.449436255471412,7.507771283840694\n",
      "5198.711,0,2.223,-2.135,7.472167707919682,7.527727790776761\n",
      "5225.525,0,0.1101,-4.789,7.467507615372016,7.522140471261856\n",
      "5234.625,1,3.2215,-2.18,7.437432279689002,7.493346955491436\n",
      "5242.491,0,3.634,-0.967,7.437034600822892,7.491546246375232\n",
      "5247.05,0,0.0872,-4.946,7.467908397052503,7.52361883729134\n",
      "5250.208,0,0.1212,-4.938,7.468462228172721,7.523549731212426\n",
      "5264.812,1,3.2304,-3.13,7.463067397365523,7.521688102195352\n",
      "5295.312,0,4.415,-1.49,7.450385521509658,7.495516481119322\n",
      "5322.041,0,2.279,-2.8,7.442004412171927,7.50011054365551\n",
      "5325.553,1,3.2215,-3.16,7.425404512867942,7.472310796058451\n",
      "5373.709,0,4.473,-0.77,7.4648873902940975,7.517643825040995\n",
      "5379.574,0,3.694,-1.514,7.464801940049002,7.520236303821007\n",
      "5386.334,0,4.154,-1.74,7.498715630211079,7.5506383176059195\n",
      "5414.073,1,3.2215,-3.58,7.438184069322238,7.490471850227159\n",
      "5425.257,1,3.1996,-3.22,7.439722638153419,7.488981040387032\n",
      "5466.396,0,4.371,-0.565,7.455360250610585,7.510664320379575\n",
      "5466.987,0,3.573,-2.23,7.484756958544193,7.532635420987133\n",
      "5522.446,0,4.209,-1.31,7.410481187368744,7.471978567252648\n",
      "5546.506,0,4.371,-1.18,7.4879902515453685,7.538230778998041\n",
      "5560.211,0,4.434,-1.16,7.509483087991259,7.563759872338421\n",
      "5577.02,0,5.0331,-1.455,7.411912803055245,7.46282190788034\n",
      "5618.633,0,4.209,-1.276,7.454448973005327,7.509564715883876\n",
      "5636.696,0,3.64,-2.56,7.489548979012318,7.546978428472018\n",
      "5638.262,0,4.22,-0.81,7.479020962710993,7.530421301523049\n",
      "5649.987,0,5.0995,-0.8,7.46689890296033,7.52143834235214\n",
      "5651.469,0,4.473,-1.75,7.461077027521931,7.52367822700597\n",
      "5661.348,0,4.2843,-1.756,7.419784762689362,7.479982271167046\n",
      "5679.023,0,4.652,-0.75,7.470044717098587,7.525835508345704\n",
      "5696.089,0,4.548,-1.72,7.3458780430246025,7.400521146102379\n",
      "5701.544,0,2.559,-2.216,7.486189325824245,7.5433710968185625\n",
      "5705.464,0,4.301,-1.355,7.407470707930097,7.464556965352173\n",
      "5855.076,0,4.6075,-1.478,7.426231080183395,7.475023359489496\n",
      "5905.672,0,4.652,-0.69,7.44869527418408,7.5015707186332135\n",
      "5916.247,0,2.453,-2.936,7.480731443485331,7.526779622124679\n",
      "5927.789,0,4.652,-1.04,7.464068495411956,7.524908402127698\n",
      "5934.655,0,3.928,-1.07,7.477449871360161,7.5295989557000835\n",
      "5956.694,0,0.8589,-4.605,7.485521819512099,7.5327057372242665\n",
      "5987.065,0,4.795,-0.212,7.370058562586892,7.426184345851173\n",
      "6003.012,0,3.881,-1.06,7.496044919370942,7.546938322821821\n",
      "6005.541,0,2.588,-3.43,7.4290166644758715,7.488532439554312\n",
      "6024.058,0,4.548,-0.02,7.460061700387471,7.516059693667035\n",
      "6027.05,0,4.0758,-1.09,7.4382798576888876,7.493929919410835\n",
      "6056.005,0,4.733,-0.45,7.462573041596809,7.5161061945185335\n",
      "6065.482,0,2.6085,-1.53,7.459933834727687,7.515876833655263\n",
      "6079.009,0,4.652,-1.1,7.521277977533984,7.567286208337204\n",
      "6082.711,0,2.223,-3.573,7.456971550853332,7.518996906037883\n",
      "6084.111000000001,1,3.1996,-3.79,7.4401121951794575,7.493763821819956\n",
      "6093.644,0,4.607,-1.3,7.432870980748077,7.494910377266321\n",
      "6096.665,0,3.9841,-1.81,7.475136792230725,7.533037226147807\n",
      "6151.618000000001,0,2.1759,-3.299,7.462505518600058,7.520887145942404\n",
      "6157.728,0,4.076,-1.22,7.471901834511403,7.5289665994631685\n",
      "6165.360000000001,0,4.1426,-1.46,7.454081854424901,7.513246141326062\n",
      "6173.335,0,2.223,-2.88,7.472720009808536,7.522849056078638\n",
      "6187.990000000001,0,3.943,-1.67,7.485472581491478,7.5427317948976915\n",
      "6200.313,0,2.6085,-2.437,7.483682833320284,7.537212909055454\n",
      "6213.43,0,2.2227,-2.52,7.456898814258749,7.512168749957732\n",
      "6219.281000000001,0,2.198,-2.433,7.468187673440628,7.521809727853587\n",
      "6226.736000000001,0,3.883,-2.1,7.49232767881608,7.548964912543852\n",
      "6240.646000000001,0,2.2227,-3.233,7.4416025586475,7.494058144180163\n",
      "6247.557,1,3.8918,-2.3,7.441993457861693,7.4892294266780794\n",
      "6252.555,0,2.404,-1.687,7.4630748149877615,7.519199523631531\n",
      "6265.134,0,2.1759,-2.55,7.468052836663765,7.522181817604772\n",
      "6270.225,0,2.858,-2.54,7.445929775378002,7.497390648609373\n",
      "6271.279,0,3.332,-2.703,7.4499596919548186,7.501139116385941\n",
      "6369.462,1,2.8912,-4.11,7.4066042816642845,7.464682318073416\n",
      "6380.743000000001,0,4.186,-1.376,7.4995922538884585,7.549322516894047\n",
      "6392.539,0,2.279,-4.03,7.498002933080241,7.556828929483746\n",
      "6416.919,1,3.8918,-2.64,7.452871243414429,7.502959228379356\n",
      "6430.846,0,2.1759,-2.006,7.457075432560624,7.505425707951536\n",
      "6432.680000000001,1,2.8912,-3.57,7.45812620645923,7.504364008895785\n",
      "6456.383,1,3.9036,-2.05,7.436440541601438,7.489335495584505\n",
      "6498.939000000001,0,0.9581,-4.699,7.500032210328565,7.55759473551289\n",
      "6593.871,0,2.4326,-2.422,7.491903618468568,7.541722819690771\n",
      "6597.561,0,4.795,-0.98,7.501052825242826,7.5514111999847415\n",
      "6625.022,0,1.011,-5.336,7.469441300504379,7.546506330195048\n",
      "6677.987,0,2.692,-1.418,7.47697067533179,7.536821783949403\n",
      "6703.567,0,2.7585,-3.023,7.4690528892307295,7.5206243414963305\n",
      "6705.101999999999,0,4.607,-0.98,7.430118983132002,7.484111940486255\n",
      "6710.319000000001,0,1.485,-4.88,7.505072926194313,7.553552632390988\n",
      "6713.745,0,4.795,-1.4,7.442255028047503,7.49417208446044\n",
      "6725.357,0,4.103,-2.19,7.48489163644934,7.531270273321527\n",
      "6726.667000000001,0,4.607,-1.03,7.463162954710667,7.510894842755505\n",
      "6733.151000000001,0,4.638,-1.47,7.491518146925496,7.549996876683818\n",
      "6739.522,0,1.557,-4.79,7.386462723030769,7.4616341974172045\n",
      "6750.152,0,2.4241,-2.621,7.480277478264499,7.528118859421525\n",
      "6752.707000000001,0,4.638,-1.204,7.45799666672377,7.519031901101107\n",
      "6793.259,0,4.076,-2.326,7.415195976053855,7.488382972388841\n",
      "6806.845,0,2.727,-3.11,7.471598554686933,7.5198540154219975\n",
      "6810.263,0,4.607,-0.986,7.469934194295676,7.5301469591914705\n",
      "6837.006,0,4.593,-1.687,7.462095970222552,7.516778564995187\n",
      "6839.83,0,2.559,-3.35,7.465813480926904,7.521734066326606\n",
      "6843.656000000001,0,4.548,-0.86,7.491052826329605,7.537883276141557\n",
      "6858.15,0,4.607,-0.93,7.459922598826152,7.509715973058099\n"
     ]
    }
   ],
   "source": [
    "println(\"wl,charge,E_lower,log_gf,sun_A,sco_A\")\n",
    "for (l, this_ew_sun, this_ew_sco, sun_a, sco_a) in zip(linelist, ew_sun, ew_sco, sun_abundances, sco_abundances)\n",
    "    println(\"$(l.wl * 1e8),$(l.species.charge),$(l.E_lower),$(l.log_gf),$(this_ew_sun),$(this_ew_sco),$(sun_a),$(sco_a)\")\n",
    "end"
   ]
  },
  {
   "cell_type": "code",
   "execution_count": 14,
   "metadata": {},
   "outputs": [
    {
     "data": {
      "text/plain": [
       "(7.461145544497993, 0.029317665074072078, 0.0029767578803630928)"
      ]
     },
     "metadata": {},
     "output_type": "display_data"
    }
   ],
   "source": [
    "using Statistics\n",
    "\n",
    "(Statistics.mean(abundances), Statistics.std(abundances), Statistics.std(abundances) / sqrt(length(abundances) - 1))"
   ]
  },
  {
   "cell_type": "code",
   "execution_count": 8,
   "metadata": {},
   "outputs": [
    {
     "data": {
      "text/plain": [
       "0"
      ]
     },
     "metadata": {},
     "output_type": "display_data"
    }
   ],
   "source": [
    "linelist[1].species.charge"
   ]
  },
  {
   "cell_type": "code",
   "execution_count": 9,
   "metadata": {},
   "outputs": [
    {
     "data": {
      "image/png": "[encoded data removed]",
      "text/plain": [
       "Figure(PyObject <Figure size 640x480 with 1 Axes>)"
      ]
     },
     "metadata": {},
     "output_type": "display_data"
    }
   ],
   "source": [
    "using PyPlot\n",
    "\n",
    "x = log10.(ews ./ [l.wl * 1e11 for l in linelist])\n",
    "fig, ax = plt.subplots()\n",
    "ax.scatter(\n",
    "    x,\n",
    "    abundances,\n",
    "    #c=[l.E_lower for l in linelist]\n",
    "    c=[l.species.charge for l in linelist]\n",
    ")\n",
    "ax.set_xlabel(\"log10(EW/lambda)\")\n",
    "ax.set_ylabel(\"A(Fe)\")\n",
    "ax.set_ylim(7.45 - 0.3, 7.45 + 0.3)\n",
    "gcf()"
   ]
  },
  {
   "cell_type": "code",
   "execution_count": 10,
   "metadata": {},
   "outputs": [],
   "source": []
  }
 ],
 "metadata": {
  "kernelspec": {
   "display_name": "Julia 1.9.1",
   "language": "julia",
   "name": "julia-1.9"
  },
  "language_info": {
   "file_extension": ".jl",
   "mimetype": "application/julia",
   "name": "julia",
   "version": "1.9.1"
  }
 },
 "nbformat": 4,
 "nbformat_minor": 2
}
